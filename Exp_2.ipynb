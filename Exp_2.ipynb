{
 "cells": [
  {
   "cell_type": "markdown",
   "id": "6fffbec3",
   "metadata": {},
   "source": [
    "## 6a. Create Tensors and apply split & merge operations and statistics operations."
   ]
  },
  {
   "cell_type": "code",
   "execution_count": 20,
   "id": "18ee1020",
   "metadata": {},
   "outputs": [],
   "source": [
    "import numpy as np"
   ]
  },
  {
   "cell_type": "markdown",
   "id": "963dfd0e",
   "metadata": {},
   "source": [
    "###  Step-1 : Taking Rows and Columns as input"
   ]
  },
  {
   "cell_type": "code",
   "execution_count": 2,
   "id": "00237433",
   "metadata": {},
   "outputs": [
    {
     "name": "stdout",
     "output_type": "stream",
     "text": [
      "Enter number of rows: 2\n",
      "Enter number of columns: 2\n"
     ]
    }
   ],
   "source": [
    "rows = int(input(\"Enter number of rows: \"))\n",
    "cols = int(input(\"Enter number of columns: \"))"
   ]
  },
  {
   "cell_type": "markdown",
   "id": "3381f871",
   "metadata": {},
   "source": [
    "### Step-2 : Taking Tensor as input"
   ]
  },
  {
   "cell_type": "code",
   "execution_count": 13,
   "id": "c7509714",
   "metadata": {},
   "outputs": [
    {
     "name": "stdout",
     "output_type": "stream",
     "text": [
      "Enter the values of\n",
      "\n",
      "Tensor[0][0]1\n",
      "Tensor[0][1]2\n",
      "Tensor[1][0]3\n",
      "Tensor[1][1]4\n",
      "Tensor: \n",
      " [[1. 2.]\n",
      " [3. 4.]]\n"
     ]
    }
   ],
   "source": [
    "tensor = np.random.rand(rows, cols)\n",
    "\n",
    "print(\"Enter the values of\\n\")\n",
    "for i in range(rows):\n",
    "    for j in range(cols):\n",
    "        tensor[i][j] = int(input(f\"Tensor[{i}][{j}] = \"))\n",
    "        \n",
    "print(\"Tensor: \\n\", tensor)"
   ]
  },
  {
   "cell_type": "markdown",
   "id": "cd9949be",
   "metadata": {},
   "source": [
    "### Step-3 : Taking input which axis to split and concatenate"
   ]
  },
  {
   "cell_type": "code",
   "execution_count": 14,
   "id": "d060a0c9",
   "metadata": {},
   "outputs": [
    {
     "name": "stdout",
     "output_type": "stream",
     "text": [
      "Select option to split\n",
      "0 -> Rows\n",
      "1 -> Col\n",
      "0\n"
     ]
    }
   ],
   "source": [
    "split_axis = int(input(\"Select option to split\\n0 -> Rows\\n1 -> Col\\n\"))"
   ]
  },
  {
   "cell_type": "markdown",
   "id": "b13b8c49",
   "metadata": {},
   "source": [
    "### Step-4 : Splitting the tensor"
   ]
  },
  {
   "cell_type": "code",
   "execution_count": 6,
   "id": "66fcd4ef",
   "metadata": {},
   "outputs": [],
   "source": [
    "splitted_tensor = np.split(tensor, 2, axis=split_axis)\n",
    "print(\"Splitted Tensor: \\n\", splitted_tensor)"
   ]
  },
  {
   "cell_type": "markdown",
   "id": "e6e7f3c4",
   "metadata": {},
   "source": [
    "### Step-5 : Merging the tensor"
   ]
  },
  {
   "cell_type": "code",
   "execution_count": 8,
   "id": "90df8ddd",
   "metadata": {},
   "outputs": [],
   "source": [
    "merged_tensor = np.concatenate(splitted_tensor, axis = split_axis)\n",
    "print(\"Merged Tensor:\\n\", merged_tensor)"
   ]
  },
  {
   "cell_type": "markdown",
   "id": "bf5aed3f",
   "metadata": {},
   "source": [
    "### Step-6 : Finding mean of Tensor"
   ]
  },
  {
   "cell_type": "code",
   "execution_count": 11,
   "id": "d1ccf7fd",
   "metadata": {},
   "outputs": [
    {
     "name": "stdout",
     "output_type": "stream",
     "text": [
      "Mean =  2.5\n"
     ]
    }
   ],
   "source": [
    "mean = np.mean(tensor)\n",
    "print(\"Mean = \", mean)"
   ]
  },
  {
   "cell_type": "markdown",
   "id": "41a361f5",
   "metadata": {},
   "source": [
    "### Step-7 : Finding Standard Deviation of Tensor"
   ]
  },
  {
   "cell_type": "code",
   "execution_count": 15,
   "id": "4c2c3277",
   "metadata": {},
   "outputs": [
    {
     "name": "stdout",
     "output_type": "stream",
     "text": [
      "Standard Deviation =  1.118033988749895\n"
     ]
    }
   ],
   "source": [
    "std = np.std(tensor)\n",
    "print(\"Standard Deviation = \", std)"
   ]
  },
  {
   "cell_type": "markdown",
   "id": "fde60c78",
   "metadata": {},
   "source": [
    "### Step-8 : Variance"
   ]
  },
  {
   "cell_type": "code",
   "execution_count": 16,
   "id": "a5dff748",
   "metadata": {},
   "outputs": [
    {
     "name": "stdout",
     "output_type": "stream",
     "text": [
      "Variance =  1.25\n"
     ]
    }
   ],
   "source": [
    "variance = np.var(tensor)\n",
    "print(\"Variance = \", variance)"
   ]
  },
  {
   "cell_type": "markdown",
   "id": "f681b59f",
   "metadata": {},
   "source": [
    "### Step-9 : Minimum and Maximum in Tensor"
   ]
  },
  {
   "cell_type": "code",
   "execution_count": 17,
   "id": "39fe9955",
   "metadata": {
    "scrolled": true
   },
   "outputs": [
    {
     "name": "stdout",
     "output_type": "stream",
     "text": [
      "Minimum = 1.0, Maximum = 4.0\n"
     ]
    }
   ],
   "source": [
    "Min = np.min(tensor)\n",
    "Max = np.max(tensor)\n",
    "\n",
    "print(f\"Minimum = {Min}, Maximum = {Max}\")"
   ]
  },
  {
   "cell_type": "markdown",
   "id": "87bcce7b",
   "metadata": {},
   "source": [
    "### Step-10 : Transpose the Tensor"
   ]
  },
  {
   "cell_type": "code",
   "execution_count": 18,
   "id": "81e70a95",
   "metadata": {},
   "outputs": [
    {
     "name": "stdout",
     "output_type": "stream",
     "text": [
      "Transpose:\n",
      " [[1. 3.]\n",
      " [2. 4.]]\n"
     ]
    }
   ],
   "source": [
    "transpose = np.transpose(tensor)\n",
    "\n",
    "print(\"Transpose:\\n\", transpose)"
   ]
  }
 ],
 "metadata": {
  "kernelspec": {
   "display_name": "Python 3 (ipykernel)",
   "language": "python",
   "name": "python3"
  },
  "language_info": {
   "codemirror_mode": {
    "name": "ipython",
    "version": 3
   },
   "file_extension": ".py",
   "mimetype": "text/x-python",
   "name": "python",
   "nbconvert_exporter": "python",
   "pygments_lexer": "ipython3",
   "version": "3.10.9"
  }
 },
 "nbformat": 4,
 "nbformat_minor": 5
}

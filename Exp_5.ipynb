{
 "cells": [
  {
   "cell_type": "markdown",
   "id": "044460af",
   "metadata": {},
   "source": [
    "### 5a. Creating a dataset"
   ]
  },
  {
   "cell_type": "code",
   "execution_count": 1,
   "id": "2a382b69",
   "metadata": {},
   "outputs": [],
   "source": [
    "import numpy as np\n",
    "\n",
    "age = np.random.choice(['Young', 'Middle', 'Old'], size=100)\n",
    "gen = np.random.choice(['Male', 'Female'], size = 100)\n",
    "chol = np.random.choice(['High', 'Normal'], size = 100)\n",
    "hd = np.random.choice(['Yes', 'No'], size = 100)"
   ]
  },
  {
   "cell_type": "code",
   "execution_count": 2,
   "id": "3dad9280",
   "metadata": {},
   "outputs": [],
   "source": [
    "import pandas as pd\n",
    "\n",
    "dataset = pd.DataFrame({'Age': age, 'Gender': gen, 'Cholesterol' : chol, 'HeartDisease' : hd})"
   ]
  },
  {
   "cell_type": "code",
   "execution_count": 3,
   "id": "e8f82cff",
   "metadata": {
    "scrolled": true
   },
   "outputs": [
    {
     "data": {
      "text/html": [
       "<div>\n",
       "<style scoped>\n",
       "    .dataframe tbody tr th:only-of-type {\n",
       "        vertical-align: middle;\n",
       "    }\n",
       "\n",
       "    .dataframe tbody tr th {\n",
       "        vertical-align: top;\n",
       "    }\n",
       "\n",
       "    .dataframe thead th {\n",
       "        text-align: right;\n",
       "    }\n",
       "</style>\n",
       "<table border=\"1\" class=\"dataframe\">\n",
       "  <thead>\n",
       "    <tr style=\"text-align: right;\">\n",
       "      <th></th>\n",
       "      <th>Age</th>\n",
       "      <th>Gender</th>\n",
       "      <th>Cholesterol</th>\n",
       "      <th>HeartDisease</th>\n",
       "    </tr>\n",
       "  </thead>\n",
       "  <tbody>\n",
       "    <tr>\n",
       "      <th>0</th>\n",
       "      <td>Young</td>\n",
       "      <td>Male</td>\n",
       "      <td>High</td>\n",
       "      <td>No</td>\n",
       "    </tr>\n",
       "    <tr>\n",
       "      <th>1</th>\n",
       "      <td>Middle</td>\n",
       "      <td>Female</td>\n",
       "      <td>High</td>\n",
       "      <td>Yes</td>\n",
       "    </tr>\n",
       "    <tr>\n",
       "      <th>2</th>\n",
       "      <td>Middle</td>\n",
       "      <td>Female</td>\n",
       "      <td>Normal</td>\n",
       "      <td>Yes</td>\n",
       "    </tr>\n",
       "    <tr>\n",
       "      <th>3</th>\n",
       "      <td>Old</td>\n",
       "      <td>Male</td>\n",
       "      <td>High</td>\n",
       "      <td>Yes</td>\n",
       "    </tr>\n",
       "    <tr>\n",
       "      <th>4</th>\n",
       "      <td>Young</td>\n",
       "      <td>Male</td>\n",
       "      <td>Normal</td>\n",
       "      <td>Yes</td>\n",
       "    </tr>\n",
       "    <tr>\n",
       "      <th>...</th>\n",
       "      <td>...</td>\n",
       "      <td>...</td>\n",
       "      <td>...</td>\n",
       "      <td>...</td>\n",
       "    </tr>\n",
       "    <tr>\n",
       "      <th>95</th>\n",
       "      <td>Middle</td>\n",
       "      <td>Female</td>\n",
       "      <td>High</td>\n",
       "      <td>No</td>\n",
       "    </tr>\n",
       "    <tr>\n",
       "      <th>96</th>\n",
       "      <td>Middle</td>\n",
       "      <td>Female</td>\n",
       "      <td>Normal</td>\n",
       "      <td>No</td>\n",
       "    </tr>\n",
       "    <tr>\n",
       "      <th>97</th>\n",
       "      <td>Young</td>\n",
       "      <td>Female</td>\n",
       "      <td>Normal</td>\n",
       "      <td>No</td>\n",
       "    </tr>\n",
       "    <tr>\n",
       "      <th>98</th>\n",
       "      <td>Middle</td>\n",
       "      <td>Female</td>\n",
       "      <td>Normal</td>\n",
       "      <td>Yes</td>\n",
       "    </tr>\n",
       "    <tr>\n",
       "      <th>99</th>\n",
       "      <td>Young</td>\n",
       "      <td>Female</td>\n",
       "      <td>High</td>\n",
       "      <td>Yes</td>\n",
       "    </tr>\n",
       "  </tbody>\n",
       "</table>\n",
       "<p>100 rows × 4 columns</p>\n",
       "</div>"
      ],
      "text/plain": [
       "       Age  Gender Cholesterol HeartDisease\n",
       "0    Young    Male        High           No\n",
       "1   Middle  Female        High          Yes\n",
       "2   Middle  Female      Normal          Yes\n",
       "3      Old    Male        High          Yes\n",
       "4    Young    Male      Normal          Yes\n",
       "..     ...     ...         ...          ...\n",
       "95  Middle  Female        High           No\n",
       "96  Middle  Female      Normal           No\n",
       "97   Young  Female      Normal           No\n",
       "98  Middle  Female      Normal          Yes\n",
       "99   Young  Female        High          Yes\n",
       "\n",
       "[100 rows x 4 columns]"
      ]
     },
     "execution_count": 3,
     "metadata": {},
     "output_type": "execute_result"
    }
   ],
   "source": [
    "dataset"
   ]
  },
  {
   "cell_type": "markdown",
   "id": "e1277013",
   "metadata": {},
   "source": [
    "### b. Constructing Bayesian Network"
   ]
  },
  {
   "cell_type": "code",
   "execution_count": 4,
   "id": "cd2e2a54",
   "metadata": {},
   "outputs": [],
   "source": [
    "import pandas as pd\n",
    "from pgmpy.models import BayesianNetwork\n",
    "from pgmpy.estimators import MaximumLikelihoodEstimator\n",
    "from pgmpy.inference import VariableElimination"
   ]
  },
  {
   "cell_type": "code",
   "execution_count": 5,
   "id": "af54dc7e",
   "metadata": {},
   "outputs": [],
   "source": [
    "model = BayesianNetwork([\n",
    "    ('Age', 'HeartDisease'),\n",
    "    ('Gender', 'HeartDisease'),\n",
    "    ('Cholesterol', 'HeartDisease')\n",
    "])"
   ]
  },
  {
   "cell_type": "code",
   "execution_count": 6,
   "id": "fd1bc770",
   "metadata": {},
   "outputs": [],
   "source": [
    "model.fit(dataset, estimator=MaximumLikelihoodEstimator)"
   ]
  },
  {
   "cell_type": "code",
   "execution_count": 7,
   "id": "ab74dd7b",
   "metadata": {},
   "outputs": [],
   "source": [
    "inference = VariableElimination(model)"
   ]
  },
  {
   "cell_type": "code",
   "execution_count": 8,
   "id": "412728db",
   "metadata": {},
   "outputs": [
    {
     "name": "stdout",
     "output_type": "stream",
     "text": [
      "Age: Middle, Gender: Male, Cholesterol: High\n",
      "+-------------------+---------------------+\n",
      "| HeartDisease      |   phi(HeartDisease) |\n",
      "+===================+=====================+\n",
      "| HeartDisease(No)  |              0.6000 |\n",
      "+-------------------+---------------------+\n",
      "| HeartDisease(Yes) |              0.4000 |\n",
      "+-------------------+---------------------+\n",
      "\n",
      "\n",
      "Age: Middle, Gender: Female, Cholesterol: Normal\n",
      "+-------------------+---------------------+\n",
      "| HeartDisease      |   phi(HeartDisease) |\n",
      "+===================+=====================+\n",
      "| HeartDisease(No)  |              0.5455 |\n",
      "+-------------------+---------------------+\n",
      "| HeartDisease(Yes) |              0.4545 |\n",
      "+-------------------+---------------------+\n"
     ]
    }
   ],
   "source": [
    "q1 = inference.query(variables=['HeartDisease'],\n",
    "                    evidence={'Age': 'Middle', 'Gender': 'Male', 'Cholesterol': 'High'})\n",
    "q2 = inference.query(variables=['HeartDisease'],\n",
    "                    evidence={'Age': 'Middle', 'Gender': 'Female', 'Cholesterol': 'Normal'})\n",
    "print(\"Age: Middle, Gender: Male, Cholesterol: High\")\n",
    "print(q1)\n",
    "\n",
    "print(\"\\n\\nAge: Middle, Gender: Female, Cholesterol: Normal\")\n",
    "print(q2)"
   ]
  },
  {
   "cell_type": "markdown",
   "id": "99985be6",
   "metadata": {},
   "source": [
    "### Plotting graph"
   ]
  },
  {
   "cell_type": "code",
   "execution_count": 9,
   "id": "f40bdf70",
   "metadata": {},
   "outputs": [],
   "source": [
    "import networkx as nx\n",
    "\n",
    "model = BayesianNetwork([\n",
    "    ('Age', 'Gender'),\n",
    "    ('Gender', 'HeartDisease'),\n",
    "    ('Cholesterol', 'HeartDisease')\n",
    "])"
   ]
  },
  {
   "cell_type": "code",
   "execution_count": 10,
   "id": "ad9b618c",
   "metadata": {},
   "outputs": [],
   "source": [
    "G = nx.DiGraph()\n",
    "G.add_nodes_from(model.nodes())\n",
    "G.add_edges_from(model.edges())"
   ]
  },
  {
   "cell_type": "code",
   "execution_count": 11,
   "id": "ffa1add6",
   "metadata": {},
   "outputs": [
    {
     "data": {
      "image/png": "[encoded data removed]",
      "text/plain": [
       "<Figure size 640x480 with 1 Axes>"
      ]
     },
     "metadata": {},
     "output_type": "display_data"
    }
   ],
   "source": [
    "nx.draw_networkx(G, with_labels=True)"
   ]
  }
 ],
 "metadata": {
  "kernelspec": {
   "display_name": "Python 3 (ipykernel)",
   "language": "python",
   "name": "python3"
  },
  "language_info": {
   "codemirror_mode": {
    "name": "ipython",
    "version": 3
   },
   "file_extension": ".py",
   "mimetype": "text/x-python",
   "name": "python",
   "nbconvert_exporter": "python",
   "pygments_lexer": "ipython3",
   "version": "3.10.9"
  }
 },
 "nbformat": 4,
 "nbformat_minor": 5
}
